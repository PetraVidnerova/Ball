{
 "cells": [
  {
   "cell_type": "code",
   "execution_count": 1,
   "id": "c96ae6b7-c30c-47a7-b035-778516370341",
   "metadata": {},
   "outputs": [],
   "source": [
    "import pandas as pd\n",
    "import matplotlib.pyplot as plt\n",
    "import seaborn as sns"
   ]
  },
  {
   "cell_type": "code",
   "execution_count": 2,
   "id": "1cbee00a-28ed-45d0-8c08-18c3c5d88d76",
   "metadata": {},
   "outputs": [],
   "source": [
    "#INPUT_FILE = \"Lepší kampaň 69,65 TRS prostoje a měření.xlsx\"\n",
    "#PREFIX=\"Lepší kampaň\" \n",
    "\n",
    "INPUT_FILE = \"Horší kampaň 60,42 TRS prostoje a měření.xlsx\"\n",
    "PREFIX = \"Horší kampaň\""
   ]
  },
  {
   "cell_type": "code",
   "execution_count": 3,
   "id": "bb84ce02-c9da-4bf0-9ed1-13514b89ae7e",
   "metadata": {},
   "outputs": [],
   "source": [
    "df = pd.ExcelFile(INPUT_FILE).parse(\"Prostoje\")[[\"Pracoviště\",\"Počáteční datum\",\"Koncové datum\"]]\n",
    "df.columns = [\"Pracoviste\", \"Start\", \"End\"]\n",
    "df[\"Pracoviste\"] = df[\"Pracoviste\"].replace({\n",
    "    'Lisování 7100': 'Lis', \n",
    "    'Mytí - Lakování 7200': 'Lak', \n",
    "    'Tisk 7300': 'Tisk',\n",
    "    'Konifikace 7400': 'Konifikace'\n",
    "})\n"
   ]
  },
  {
   "cell_type": "code",
   "execution_count": 4,
   "id": "7d6faa4b-2ae8-446e-926e-0ea070363f86",
   "metadata": {},
   "outputs": [],
   "source": [
    "df[\"Start\"] = pd.to_datetime(df[\"Start\"])\n",
    "df[\"End\"] = pd.to_datetime(df[\"End\"])\n",
    "\n",
    "# filter out the incorrect date (1970 in horsi kampan)\n",
    "df = df[df[\"Start\"].dt.year == 2023]\n",
    "df = df[df[\"End\"].dt.year == 2023]\n",
    "\n",
    "df.to_csv(f\"{PREFIX}_prostoje.csv\", date_format=\"%Y-%m-%d %H:%M:%S.%f\")"
   ]
  },
  {
   "cell_type": "code",
   "execution_count": null,
   "id": "0b2c67eb-a8fc-4df0-8e03-16de8e192bd7",
   "metadata": {},
   "outputs": [],
   "source": []
  },
  {
   "cell_type": "code",
   "execution_count": 5,
   "id": "59afbb8c-dc17-46b0-b423-ac43717557a4",
   "metadata": {},
   "outputs": [],
   "source": [
    "for i, row in df.iterrows():\n",
    "    if row[\"Pracoviste\"] == \"Lis\":\n",
    "        if (row[\"Start\"].year != 2023) or (row[\"End\"].year != 2023):\n",
    "            print(row[\"Start\"].year, row[\"End\"].year)"
   ]
  },
  {
   "cell_type": "code",
   "execution_count": 6,
   "id": "c8856746-40de-4ee5-ac20-d1742133ab10",
   "metadata": {},
   "outputs": [
    {
     "data": {
      "image/png": "[encoded data removed]",
      "text/plain": [
       "<Figure size 640x480 with 1 Axes>"
      ]
     },
     "metadata": {},
     "output_type": "display_data"
    }
   ],
   "source": [
    "fig, ax = plt.subplots()\n",
    "for i, row in df.iterrows():\n",
    "    if row[\"Pracoviste\"] == \"Lis\":\n",
    "        ax.fill_betweenx(y=[0,1], x1=row[\"Start\"], x2=row[\"End\"], facecolor=\"gray\")"
   ]
  },
  {
   "cell_type": "code",
   "execution_count": null,
   "id": "80b4801b-d03c-4862-8b5e-26753c6119e6",
   "metadata": {},
   "outputs": [],
   "source": []
  },
  {
   "cell_type": "code",
   "execution_count": null,
   "id": "4e525144-cf41-4230-be90-8b55721b9e09",
   "metadata": {},
   "outputs": [],
   "source": []
  }
 ],
 "metadata": {
  "kernelspec": {
   "display_name": "Python 3 (ipykernel)",
   "language": "python",
   "name": "python3"
  },
  "language_info": {
   "codemirror_mode": {
    "name": "ipython",
    "version": 3
   },
   "file_extension": ".py",
   "mimetype": "text/x-python",
   "name": "python",
   "nbconvert_exporter": "python",
   "pygments_lexer": "ipython3",
   "version": "3.11.8"
  }
 },
 "nbformat": 4,
 "nbformat_minor": 5
}
