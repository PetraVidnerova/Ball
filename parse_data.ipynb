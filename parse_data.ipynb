{
 "cells": [
  {
   "cell_type": "code",
   "execution_count": 1,
   "id": "32b04b6c-5a57-4dc2-9525-e40a3a777af8",
   "metadata": {},
   "outputs": [],
   "source": [
    "import matplotlib.pyplot as plt \n",
    "import seaborn\n",
    "import pandas as pd"
   ]
  },
  {
   "cell_type": "code",
   "execution_count": 2,
   "id": "1e6c5cbf-165e-4e9a-9530-d0861e5994a5",
   "metadata": {},
   "outputs": [],
   "source": [
    "INPUT_FILE = \"Lepší kampaň 69,65 TRS prostoje a měření.xlsx\"\n",
    "OUTPUT_PREFIX = \"Lepsi_kampan_mereni_\"\n",
    "\n",
    "#INPUT_FILE = \"Horší kampaň 60,42 TRS prostoje a měření.xlsx\"\n",
    "#OUTPUT_PREFIX = \"Horsi_kampan_mereni_\""
   ]
  },
  {
   "cell_type": "code",
   "execution_count": 3,
   "id": "8cb1f3d7-16e8-44e4-bebb-0e2e827e54cd",
   "metadata": {},
   "outputs": [],
   "source": [
    "excel_file = pd.ExcelFile(INPUT_FILE)"
   ]
  },
  {
   "cell_type": "code",
   "execution_count": 4,
   "id": "ecd58092-d0df-47d9-8894-8bfc788ba8f2",
   "metadata": {},
   "outputs": [
    {
     "data": {
      "text/plain": [
       "['Prostoje',\n",
       " 'Měření lis 7100',\n",
       " 'Měření vnitřní lak 7200',\n",
       " 'Měření tisk 7300',\n",
       " 'Měření konifikace 7400']"
      ]
     },
     "execution_count": 4,
     "metadata": {},
     "output_type": "execute_result"
    }
   ],
   "source": [
    "excel_file.sheet_names\n"
   ]
  },
  {
   "cell_type": "code",
   "execution_count": 5,
   "id": "4b04f529-6887-4c6b-be18-e874be47f09d",
   "metadata": {},
   "outputs": [
    {
     "data": {
      "text/plain": [
       "Index(['Axiální síla (Axialni_sila)', 'Hloubka výdutě (Hloubka_vydute)',\n",
       "       'Kontaktní výška (Kontaktni_vyska)', 'Porozita 0400 (Porosita_0400)',\n",
       "       'Tlaková deformace 1 (Tlak_deformace1)',\n",
       "       'Tlaková deformace 2 (Tlak_deformace2)', 'Unnamed: 0_level_0',\n",
       "       'Unnamed: 1_level_0', 'Unnamed: 2_level_0', 'Unnamed: 3_level_0',\n",
       "       'Unnamed: 4_level_0', 'Unnamed: 5_level_0',\n",
       "       'Vnitřní pr. drážky (Vnitrni_pr_drazky)',\n",
       "       'Vnější pr. drážky (Vnejsi_pr_drazky)', 'Výška pertlu (Vyska_pertlu)',\n",
       "       'Výška pouzdra (Vyska_pouzdra)'],\n",
       "      dtype='object')"
      ]
     },
     "execution_count": 5,
     "metadata": {},
     "output_type": "execute_result"
    }
   ],
   "source": [
    "excel_file.parse(\"Měření konifikace 7400\", header=[2,3]).columns.levels[0]"
   ]
  },
  {
   "cell_type": "code",
   "execution_count": 6,
   "id": "180b2d05-db90-4807-9f96-382f35337392",
   "metadata": {},
   "outputs": [],
   "source": [
    "sheet_names = zip(excel_file.sheet_names,\n",
    "                  [\"Prostoje\", \"Lis\", \"Lak\", \"Tisk\", \"Konifikace\"])\n",
    "wanted_columns = {\n",
    "    \"Lis\": [\n",
    "        ('Délka pouzdra po ořezu - H (L-Delka_pouzdra_po_orezu_H)', 'Hodnota'),\n",
    "        ('Délka pouzdra po ořezu - H (L-Delka_pouzdra_po_orezu_H)', 'Čas měření'),\n",
    "        ('Síla stěny - C (L-Sila_Steny_C)', 'Hodnota'),\n",
    "        ('Síla stěny - C (L-Sila_Steny_C)', 'Čas měření'),\n",
    "        ('Síla stěny u dna - A (L-Sila_Steny_u_dna_A)', 'Hodnota'),\n",
    "        ('Síla stěny u dna - A (L-Sila_Steny_u_dna_A)', 'Čas měření'),\n",
    "        ('Síla dna - B (L-Sila_Dna_B)', 'Hodnota'),\n",
    "        ('Síla dna - B (L-Sila_Dna_B)', 'Čas měření'),\n",
    "        ('Zesílení okraje - K (L-Zesileni_okraje_K)', 'Hodnota'),\n",
    "        ('Zesílení okraje - K (L-Zesileni_okraje_K)', 'Čas měření'),\n",
    "        ('Sila dna uprostred (L-Sila dna uprostred)', 'Hodnota'),\n",
    "        ('Sila dna uprostred (L-Sila dna uprostred)', 'Čas měření'),\n",
    "        ('Hloubka výdutě lis (L-Hloubka_vydute)', 'Hodnota'),\n",
    "        ('Hloubka výdutě lis (L-Hloubka_vydute)', 'Čas měření')\n",
    "    ],\n",
    "    \"Lak\": [\n",
    "        ('Porozita 0200 (Porosita_0200)', 'Hodnota'),\n",
    "        ('Porozita 0200 (Porosita_0200)', 'Čas měření'),\n",
    "        ('Teplota mycí lázně vnitřní lak (T_myci_lazen_vnitrni_lak)', 'Hodnota'),\n",
    "        ('Teplota mycí lázně vnitřní lak (T_myci_lazen_vnitrni_lak)', 'Čas měření'),\n",
    "        ('Teplota pece vnitřní lak (T_pec_vnitrni_lak)', 'Hodnota'),\n",
    "        ('Teplota pece vnitřní lak (T_pec_vnitrni_lak)', 'Čas měření'),\n",
    "        ('Váha laku (Vaha_laku)', 'Hodnota'),\n",
    "        ('Váha laku (Vaha_laku)', 'Čas měření'),\n",
    "        ('Váha laku g/m2 (Vaha_laku_g/m2)', 'Hodnota'),\n",
    "        ('Váha laku g/m2 (Vaha_laku_g/m2)', 'Čas měření'), \n",
    "        ('Váha nelakované plechovky (Vaha_nelak_plech)', 'Hodnota'),\n",
    "        ('Váha nelakované plechovky (Vaha_nelak_plech)', 'Čas měření')\n",
    "    ],\n",
    "    \"Tisk\": [\n",
    "        ('Měrná váha vrchního laku (Merna_vaha_lak_vrch)', 'Hodnota'),\n",
    "        ('Měrná váha vrchního laku (Merna_vaha_lak_vrch)', 'Čas měření'),\n",
    "        ('Měrná váha základního laku (Merna_vaha_lak_zakl)', 'Hodnota'),\n",
    "        ('Měrná váha základního laku (Merna_vaha_lak_zakl)', 'Čas měření'),\n",
    "        ('Porozita 0300 (Porosita_0300)', 'Hodnota'),\n",
    "        ('Porozita 0300 (Porosita_0300)', 'Čas měření'),        \n",
    "        ('Relat. čitelnost kódu (GRADE)', 'Hodnota'),\n",
    "        ('Relat. čitelnost kódu (GRADE)', 'Čas měření'),\n",
    "        ('Teplota pece tisk (T_pec_tisk)', 'Hodnota'),\n",
    "        ('Teplota pece tisk (T_pec_tisk)', 'Čas měření'),        \n",
    "        ('Teplota pece vrchního laku (T_pec_vl)', 'Hodnota'),\n",
    "        ('Teplota pece vrchního laku (T_pec_vl)', 'Čas měření'),       \n",
    "        ('Teplota pece základního laku (T_pec_zl)', 'Hodnota'),\n",
    "        ('Teplota pece základního laku (T_pec_zl)', 'Čas měření'), \n",
    "    ],\n",
    "    \"Konifikace\": [\n",
    "        ('Axiální síla (Axialni_sila)', 'Hodnota'), \n",
    "        ('Axiální síla (Axialni_sila)', 'Čas měření'),\n",
    "        ('Hloubka výdutě (Hloubka_vydute)', 'Hodnota'),\n",
    "        ('Hloubka výdutě (Hloubka_vydute)', 'Čas měření'),\n",
    "        ('Kontaktní výška (Kontaktni_vyska)', 'Hodnota'),\n",
    "        ('Kontaktní výška (Kontaktni_vyska)', 'Čas měření'),\n",
    "        ('Porozita 0400 (Porosita_0400)', 'Hodnota'),\n",
    "        ('Porozita 0400 (Porosita_0400)', 'Čas měření'),\n",
    "        ('Tlaková deformace 1 (Tlak_deformace1)', 'Hodnota'),\n",
    "        ('Tlaková deformace 1 (Tlak_deformace1)', 'Čas měření'),\n",
    "        ('Tlaková deformace 2 (Tlak_deformace2)', 'Hodnota'),\n",
    "        ('Tlaková deformace 2 (Tlak_deformace2)', 'Čas měření'),\n",
    "        ('Vnitřní pr. drážky (Vnitrni_pr_drazky)', 'Hodnota'),\n",
    "        ('Vnitřní pr. drážky (Vnitrni_pr_drazky)', 'Čas měření'),\n",
    "        ('Vnější pr. drážky (Vnejsi_pr_drazky)', 'Hodnota'),\n",
    "        ('Vnější pr. drážky (Vnejsi_pr_drazky)', 'Čas měření'),\n",
    "        ('Výška pertlu (Vyska_pertlu)', 'Hodnota'),\n",
    "        ('Výška pertlu (Vyska_pertlu)', 'Čas měření'),\n",
    "        ('Výška pouzdra (Vyska_pouzdra)', 'Hodnota'),\n",
    "        ('Výška pouzdra (Vyska_pouzdra)', 'Čas měření')\n",
    "    ]\n",
    "}"
   ]
  },
  {
   "cell_type": "code",
   "execution_count": 7,
   "id": "103b4ec9-d8e2-4793-852f-0b3e0c2a54af",
   "metadata": {},
   "outputs": [],
   "source": [
    "def parse_one_sheet(sheet_name, short_name, wanted_columns):\n",
    "    df = excel_file.parse(sheet_name, header=[2,3])\n",
    "\n",
    "    #print(short_name)\n",
    "    #print(df.columns)\n",
    "    #print(wanted_columns)\n",
    "    \n",
    "    df = df[wanted_columns]\n",
    "    df = df.T.unstack(level=1).T\n",
    "\n",
    "    df_list = []\n",
    "    for i in range(len(df.index.levels[0])):\n",
    "        row = df.loc[i]\n",
    "        for col in row.columns:\n",
    "            cas = row.loc[\"Čas měření\"][col]\n",
    "            hodnota = row.loc[\"Hodnota\"][col]\n",
    "            df_list.append({\n",
    "                \"time\": cas,\n",
    "                \"value\": hodnota,\n",
    "                \"variable\": col\n",
    "            })\n",
    "    df = (\n",
    "        pd.DataFrame(df_list)\n",
    "        .dropna()\n",
    "        .set_index(\"time\")\n",
    "    )\n",
    "    df.to_csv(f\"{OUTPUT_PREFIX}{short_name}.csv\")\n",
    "    print(f\"{OUTPUT_PREFIX}{short_name}.csv saved.\")"
   ]
  },
  {
   "cell_type": "code",
   "execution_count": 8,
   "id": "b556c4a3-211b-4208-9a76-e251aae2f96f",
   "metadata": {},
   "outputs": [
    {
     "name": "stdout",
     "output_type": "stream",
     "text": [
      "Lepsi_kampan_mereni_Lis.csv saved.\n",
      "Lepsi_kampan_mereni_Lak.csv saved.\n",
      "Lepsi_kampan_mereni_Tisk.csv saved.\n",
      "Lepsi_kampan_mereni_Konifikace.csv saved.\n"
     ]
    }
   ],
   "source": [
    "for sheet_name, short_name in sheet_names:\n",
    "    if short_name in wanted_columns:\n",
    "        parse_one_sheet(sheet_name, short_name, wanted_columns[short_name])"
   ]
  },
  {
   "cell_type": "code",
   "execution_count": null,
   "id": "1c7616b8-e7f7-4ca5-9f5e-874bdce7656e",
   "metadata": {},
   "outputs": [],
   "source": []
  }
 ],
 "metadata": {
  "kernelspec": {
   "display_name": "Python 3 (ipykernel)",
   "language": "python",
   "name": "python3"
  },
  "language_info": {
   "codemirror_mode": {
    "name": "ipython",
    "version": 3
   },
   "file_extension": ".py",
   "mimetype": "text/x-python",
   "name": "python",
   "nbconvert_exporter": "python",
   "pygments_lexer": "ipython3",
   "version": "3.11.8"
  }
 },
 "nbformat": 4,
 "nbformat_minor": 5
}
